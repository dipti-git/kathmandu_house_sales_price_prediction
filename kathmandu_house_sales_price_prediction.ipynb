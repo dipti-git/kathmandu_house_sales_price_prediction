{
 "cells": [
  {
   "cell_type": "code",
   "execution_count": 16,
   "metadata": {},
   "outputs": [],
   "source": [
    "#importing libraries\n",
    "\n",
    "import pandas as pd\n",
    "import numpy as np \n",
    "import matplotlib\n",
    "from matplotlib import pyplot as plt"
   ]
  },
  {
   "cell_type": "code",
   "execution_count": 17,
   "metadata": {},
   "outputs": [
    {
     "data": {
      "text/html": [
       "<div>\n",
       "<style scoped>\n",
       "    .dataframe tbody tr th:only-of-type {\n",
       "        vertical-align: middle;\n",
       "    }\n",
       "\n",
       "    .dataframe tbody tr th {\n",
       "        vertical-align: top;\n",
       "    }\n",
       "\n",
       "    .dataframe thead th {\n",
       "        text-align: right;\n",
       "    }\n",
       "</style>\n",
       "<table border=\"1\" class=\"dataframe\">\n",
       "  <thead>\n",
       "    <tr style=\"text-align: right;\">\n",
       "      <th></th>\n",
       "      <th>Title</th>\n",
       "      <th>Address</th>\n",
       "      <th>City</th>\n",
       "      <th>Price</th>\n",
       "      <th>Bedroom</th>\n",
       "      <th>Bathroom</th>\n",
       "      <th>Floors</th>\n",
       "      <th>Parking</th>\n",
       "      <th>Face</th>\n",
       "      <th>Year</th>\n",
       "      <th>Views</th>\n",
       "      <th>Area</th>\n",
       "      <th>Road</th>\n",
       "      <th>Road Width</th>\n",
       "      <th>Road Type</th>\n",
       "      <th>Build Area</th>\n",
       "      <th>Posted</th>\n",
       "      <th>Amenities</th>\n",
       "    </tr>\n",
       "  </thead>\n",
       "  <tbody>\n",
       "    <tr>\n",
       "      <th>0</th>\n",
       "      <td>Flat System House On Sale At Budhanikantha : H...</td>\n",
       "      <td>Budhanikantha, Budhanilkantha, Kathmandu</td>\n",
       "      <td>Kathmandu</td>\n",
       "      <td>90000000</td>\n",
       "      <td>6</td>\n",
       "      <td>3</td>\n",
       "      <td>2.0</td>\n",
       "      <td>10</td>\n",
       "      <td>West</td>\n",
       "      <td>2073.0</td>\n",
       "      <td>17</td>\n",
       "      <td>1-0-0-0 Aana</td>\n",
       "      <td>20 Feet / Blacktopped</td>\n",
       "      <td>20 Feet</td>\n",
       "      <td>Blacktopped</td>\n",
       "      <td>18-0-0-0 Aana</td>\n",
       "      <td>11 hours ago</td>\n",
       "      <td>['Parking', 'Lawn', 'Garage', 'Frontyard', 'Fe...</td>\n",
       "    </tr>\n",
       "    <tr>\n",
       "      <th>1</th>\n",
       "      <td>21 Aana Beautiful House : House For Sale In Bu...</td>\n",
       "      <td>Pasikot, Budhanilkantha, Kathmandu</td>\n",
       "      <td>Kathmandu</td>\n",
       "      <td>80000000</td>\n",
       "      <td>5</td>\n",
       "      <td>3</td>\n",
       "      <td>2.0</td>\n",
       "      <td>9</td>\n",
       "      <td>East</td>\n",
       "      <td>2073.0</td>\n",
       "      <td>26</td>\n",
       "      <td>0-21-0-0 Aana</td>\n",
       "      <td>20 Feet / Blacktopped</td>\n",
       "      <td>20 Feet</td>\n",
       "      <td>Blacktopped</td>\n",
       "      <td>0-14-0-0 Aana</td>\n",
       "      <td>12 hours ago</td>\n",
       "      <td>['Parking', 'Garage', 'Fencing', 'Frontyard', ...</td>\n",
       "    </tr>\n",
       "    <tr>\n",
       "      <th>2</th>\n",
       "      <td>Beautiful To Floor House : House For Sale In D...</td>\n",
       "      <td>Dhapasi, Dhapasi, Kathmandu</td>\n",
       "      <td>Kathmandu</td>\n",
       "      <td>70000000</td>\n",
       "      <td>5</td>\n",
       "      <td>3</td>\n",
       "      <td>2.0</td>\n",
       "      <td>12</td>\n",
       "      <td>East</td>\n",
       "      <td>2071.0</td>\n",
       "      <td>154</td>\n",
       "      <td>1-1-0-0 Aana</td>\n",
       "      <td>20 Feet / Blacktopped</td>\n",
       "      <td>20 Feet</td>\n",
       "      <td>Blacktopped</td>\n",
       "      <td>10-1-0-0 Aana</td>\n",
       "      <td>2 days ago</td>\n",
       "      <td>['Parking', 'Lawn', 'Garage', 'Frontyard', 'Fe...</td>\n",
       "    </tr>\n",
       "    <tr>\n",
       "      <th>3</th>\n",
       "      <td>Modern Architecture Bungalow House : House For...</td>\n",
       "      <td>baluwatar, Baluwatar, Kathmandu</td>\n",
       "      <td>Kathmandu</td>\n",
       "      <td>130000000</td>\n",
       "      <td>6</td>\n",
       "      <td>4</td>\n",
       "      <td>3.0</td>\n",
       "      <td>9</td>\n",
       "      <td>West</td>\n",
       "      <td>2017.0</td>\n",
       "      <td>17</td>\n",
       "      <td>0-10-1-0 Aana</td>\n",
       "      <td>20 Feet / Blacktopped</td>\n",
       "      <td>20 Feet</td>\n",
       "      <td>Blacktopped</td>\n",
       "      <td>0-7-1-0 Aana</td>\n",
       "      <td>1 day ago</td>\n",
       "      <td>['Parking', 'Lawn', 'Garage', 'Frontyard', 'Fe...</td>\n",
       "    </tr>\n",
       "    <tr>\n",
       "      <th>4</th>\n",
       "      <td>Modern Bungalow House : House For Sale In Golf...</td>\n",
       "      <td>Golfutar, Golfutar, Kathmandu</td>\n",
       "      <td>Kathmandu</td>\n",
       "      <td>100000000</td>\n",
       "      <td>6</td>\n",
       "      <td>3</td>\n",
       "      <td>2.0</td>\n",
       "      <td>10</td>\n",
       "      <td>East</td>\n",
       "      <td>2070.0</td>\n",
       "      <td>59</td>\n",
       "      <td>0-19-2-0 Aana</td>\n",
       "      <td>20 Feet / Blacktopped</td>\n",
       "      <td>20 Feet</td>\n",
       "      <td>Blacktopped</td>\n",
       "      <td>0-14-2-0 Aana</td>\n",
       "      <td>2 days ago</td>\n",
       "      <td>['Parking', 'Lawn', 'Garage', 'Balcony', 'Back...</td>\n",
       "    </tr>\n",
       "  </tbody>\n",
       "</table>\n",
       "</div>"
      ],
      "text/plain": [
       "                                               Title  \\\n",
       "0  Flat System House On Sale At Budhanikantha : H...   \n",
       "1  21 Aana Beautiful House : House For Sale In Bu...   \n",
       "2  Beautiful To Floor House : House For Sale In D...   \n",
       "3  Modern Architecture Bungalow House : House For...   \n",
       "4  Modern Bungalow House : House For Sale In Golf...   \n",
       "\n",
       "                                    Address       City      Price  Bedroom  \\\n",
       "0  Budhanikantha, Budhanilkantha, Kathmandu  Kathmandu   90000000        6   \n",
       "1        Pasikot, Budhanilkantha, Kathmandu  Kathmandu   80000000        5   \n",
       "2               Dhapasi, Dhapasi, Kathmandu  Kathmandu   70000000        5   \n",
       "3           baluwatar, Baluwatar, Kathmandu  Kathmandu  130000000        6   \n",
       "4             Golfutar, Golfutar, Kathmandu  Kathmandu  100000000        6   \n",
       "\n",
       "   Bathroom  Floors  Parking  Face    Year Views           Area  \\\n",
       "0         3     2.0       10  West  2073.0    17   1-0-0-0 Aana   \n",
       "1         3     2.0        9  East  2073.0    26  0-21-0-0 Aana   \n",
       "2         3     2.0       12  East  2071.0   154   1-1-0-0 Aana   \n",
       "3         4     3.0        9  West  2017.0    17  0-10-1-0 Aana   \n",
       "4         3     2.0       10  East  2070.0    59  0-19-2-0 Aana   \n",
       "\n",
       "                    Road Road Width     Road Type     Build Area  \\\n",
       "0  20 Feet / Blacktopped   20 Feet    Blacktopped  18-0-0-0 Aana   \n",
       "1  20 Feet / Blacktopped   20 Feet    Blacktopped  0-14-0-0 Aana   \n",
       "2  20 Feet / Blacktopped   20 Feet    Blacktopped  10-1-0-0 Aana   \n",
       "3  20 Feet / Blacktopped   20 Feet    Blacktopped   0-7-1-0 Aana   \n",
       "4  20 Feet / Blacktopped   20 Feet    Blacktopped  0-14-2-0 Aana   \n",
       "\n",
       "         Posted                                          Amenities  \n",
       "0  11 hours ago  ['Parking', 'Lawn', 'Garage', 'Frontyard', 'Fe...  \n",
       "1  12 hours ago  ['Parking', 'Garage', 'Fencing', 'Frontyard', ...  \n",
       "2    2 days ago  ['Parking', 'Lawn', 'Garage', 'Frontyard', 'Fe...  \n",
       "3     1 day ago  ['Parking', 'Lawn', 'Garage', 'Frontyard', 'Fe...  \n",
       "4    2 days ago  ['Parking', 'Lawn', 'Garage', 'Balcony', 'Back...  "
      ]
     },
     "execution_count": 17,
     "metadata": {},
     "output_type": "execute_result"
    }
   ],
   "source": [
    "#reading the csv file\n",
    "\n",
    "df1 = pd.read_csv(\"ktm_houses_price.csv\")\n",
    "df1.head()\n"
   ]
  },
  {
   "cell_type": "code",
   "execution_count": 18,
   "metadata": {},
   "outputs": [
    {
     "data": {
      "text/plain": [
       "(2211, 18)"
      ]
     },
     "execution_count": 18,
     "metadata": {},
     "output_type": "execute_result"
    }
   ],
   "source": [
    "df1.shape"
   ]
  },
  {
   "cell_type": "code",
   "execution_count": 19,
   "metadata": {},
   "outputs": [],
   "source": [
    "df2 = df1.drop(['Title', 'City','Bathroom','Posted','Amenities','Face','Address', 'Year', 'Views', 'Road', 'Road Width','Road Type','Build Area', 'Area'], axis='columns')"
   ]
  },
  {
   "cell_type": "code",
   "execution_count": 20,
   "metadata": {},
   "outputs": [
    {
     "data": {
      "text/html": [
       "<div>\n",
       "<style scoped>\n",
       "    .dataframe tbody tr th:only-of-type {\n",
       "        vertical-align: middle;\n",
       "    }\n",
       "\n",
       "    .dataframe tbody tr th {\n",
       "        vertical-align: top;\n",
       "    }\n",
       "\n",
       "    .dataframe thead th {\n",
       "        text-align: right;\n",
       "    }\n",
       "</style>\n",
       "<table border=\"1\" class=\"dataframe\">\n",
       "  <thead>\n",
       "    <tr style=\"text-align: right;\">\n",
       "      <th></th>\n",
       "      <th>Price</th>\n",
       "      <th>Bedroom</th>\n",
       "      <th>Floors</th>\n",
       "      <th>Parking</th>\n",
       "    </tr>\n",
       "  </thead>\n",
       "  <tbody>\n",
       "    <tr>\n",
       "      <th>0</th>\n",
       "      <td>90000000</td>\n",
       "      <td>6</td>\n",
       "      <td>2.0</td>\n",
       "      <td>10</td>\n",
       "    </tr>\n",
       "    <tr>\n",
       "      <th>1</th>\n",
       "      <td>80000000</td>\n",
       "      <td>5</td>\n",
       "      <td>2.0</td>\n",
       "      <td>9</td>\n",
       "    </tr>\n",
       "    <tr>\n",
       "      <th>2</th>\n",
       "      <td>70000000</td>\n",
       "      <td>5</td>\n",
       "      <td>2.0</td>\n",
       "      <td>12</td>\n",
       "    </tr>\n",
       "    <tr>\n",
       "      <th>3</th>\n",
       "      <td>130000000</td>\n",
       "      <td>6</td>\n",
       "      <td>3.0</td>\n",
       "      <td>9</td>\n",
       "    </tr>\n",
       "    <tr>\n",
       "      <th>4</th>\n",
       "      <td>100000000</td>\n",
       "      <td>6</td>\n",
       "      <td>2.0</td>\n",
       "      <td>10</td>\n",
       "    </tr>\n",
       "  </tbody>\n",
       "</table>\n",
       "</div>"
      ],
      "text/plain": [
       "       Price  Bedroom  Floors  Parking\n",
       "0   90000000        6     2.0       10\n",
       "1   80000000        5     2.0        9\n",
       "2   70000000        5     2.0       12\n",
       "3  130000000        6     3.0        9\n",
       "4  100000000        6     2.0       10"
      ]
     },
     "execution_count": 20,
     "metadata": {},
     "output_type": "execute_result"
    }
   ],
   "source": [
    "df2.head()\n"
   ]
  },
  {
   "cell_type": "code",
   "execution_count": 21,
   "metadata": {},
   "outputs": [
    {
     "data": {
      "text/plain": [
       "Price         0\n",
       "Bedroom       0\n",
       "Floors     1172\n",
       "Parking       0\n",
       "dtype: int64"
      ]
     },
     "execution_count": 21,
     "metadata": {},
     "output_type": "execute_result"
    }
   ],
   "source": [
    "#Checking if there are any NaN values\n",
    "\n",
    "df2.isnull().sum()\n",
    "\n",
    "#Floors Here contain to be NaN values which is then solved by taking Medians"
   ]
  },
  {
   "cell_type": "code",
   "execution_count": 22,
   "metadata": {},
   "outputs": [
    {
     "data": {
      "text/plain": [
       "3"
      ]
     },
     "execution_count": 22,
     "metadata": {},
     "output_type": "execute_result"
    }
   ],
   "source": [
    "#taking median for NaN values\n",
    "\n",
    "import math\n",
    "median_Floors = math.floor(df2.Floors.median())\n",
    "median_Floors"
   ]
  },
  {
   "cell_type": "code",
   "execution_count": 23,
   "metadata": {},
   "outputs": [
    {
     "data": {
      "text/html": [
       "<div>\n",
       "<style scoped>\n",
       "    .dataframe tbody tr th:only-of-type {\n",
       "        vertical-align: middle;\n",
       "    }\n",
       "\n",
       "    .dataframe tbody tr th {\n",
       "        vertical-align: top;\n",
       "    }\n",
       "\n",
       "    .dataframe thead th {\n",
       "        text-align: right;\n",
       "    }\n",
       "</style>\n",
       "<table border=\"1\" class=\"dataframe\">\n",
       "  <thead>\n",
       "    <tr style=\"text-align: right;\">\n",
       "      <th></th>\n",
       "      <th>Price</th>\n",
       "      <th>Bedroom</th>\n",
       "      <th>Floors</th>\n",
       "      <th>Parking</th>\n",
       "    </tr>\n",
       "  </thead>\n",
       "  <tbody>\n",
       "    <tr>\n",
       "      <th>0</th>\n",
       "      <td>90000000</td>\n",
       "      <td>6</td>\n",
       "      <td>2.0</td>\n",
       "      <td>10</td>\n",
       "    </tr>\n",
       "    <tr>\n",
       "      <th>1</th>\n",
       "      <td>80000000</td>\n",
       "      <td>5</td>\n",
       "      <td>2.0</td>\n",
       "      <td>9</td>\n",
       "    </tr>\n",
       "    <tr>\n",
       "      <th>2</th>\n",
       "      <td>70000000</td>\n",
       "      <td>5</td>\n",
       "      <td>2.0</td>\n",
       "      <td>12</td>\n",
       "    </tr>\n",
       "    <tr>\n",
       "      <th>3</th>\n",
       "      <td>130000000</td>\n",
       "      <td>6</td>\n",
       "      <td>3.0</td>\n",
       "      <td>9</td>\n",
       "    </tr>\n",
       "    <tr>\n",
       "      <th>4</th>\n",
       "      <td>100000000</td>\n",
       "      <td>6</td>\n",
       "      <td>2.0</td>\n",
       "      <td>10</td>\n",
       "    </tr>\n",
       "    <tr>\n",
       "      <th>...</th>\n",
       "      <td>...</td>\n",
       "      <td>...</td>\n",
       "      <td>...</td>\n",
       "      <td>...</td>\n",
       "    </tr>\n",
       "    <tr>\n",
       "      <th>2206</th>\n",
       "      <td>500000</td>\n",
       "      <td>5</td>\n",
       "      <td>3.0</td>\n",
       "      <td>5</td>\n",
       "    </tr>\n",
       "    <tr>\n",
       "      <th>2207</th>\n",
       "      <td>12000000</td>\n",
       "      <td>4</td>\n",
       "      <td>2.0</td>\n",
       "      <td>1</td>\n",
       "    </tr>\n",
       "    <tr>\n",
       "      <th>2208</th>\n",
       "      <td>27000000</td>\n",
       "      <td>5</td>\n",
       "      <td>2.0</td>\n",
       "      <td>1</td>\n",
       "    </tr>\n",
       "    <tr>\n",
       "      <th>2209</th>\n",
       "      <td>300000</td>\n",
       "      <td>9</td>\n",
       "      <td>2.0</td>\n",
       "      <td>4</td>\n",
       "    </tr>\n",
       "    <tr>\n",
       "      <th>2210</th>\n",
       "      <td>72500000</td>\n",
       "      <td>5</td>\n",
       "      <td>3.0</td>\n",
       "      <td>5</td>\n",
       "    </tr>\n",
       "  </tbody>\n",
       "</table>\n",
       "<p>2211 rows × 4 columns</p>\n",
       "</div>"
      ],
      "text/plain": [
       "          Price  Bedroom  Floors  Parking\n",
       "0      90000000        6     2.0       10\n",
       "1      80000000        5     2.0        9\n",
       "2      70000000        5     2.0       12\n",
       "3     130000000        6     3.0        9\n",
       "4     100000000        6     2.0       10\n",
       "...         ...      ...     ...      ...\n",
       "2206     500000        5     3.0        5\n",
       "2207   12000000        4     2.0        1\n",
       "2208   27000000        5     2.0        1\n",
       "2209     300000        9     2.0        4\n",
       "2210   72500000        5     3.0        5\n",
       "\n",
       "[2211 rows x 4 columns]"
      ]
     },
     "execution_count": 23,
     "metadata": {},
     "output_type": "execute_result"
    }
   ],
   "source": [
    "df2.Floors = df2.Floors.fillna(median_Floors)\n",
    "df2"
   ]
  },
  {
   "cell_type": "code",
   "execution_count": 24,
   "metadata": {},
   "outputs": [
    {
     "data": {
      "text/plain": [
       "Price      0\n",
       "Bedroom    0\n",
       "Floors     0\n",
       "Parking    0\n",
       "dtype: int64"
      ]
     },
     "execution_count": 24,
     "metadata": {},
     "output_type": "execute_result"
    }
   ],
   "source": [
    "df2.isnull().sum()"
   ]
  },
  {
   "cell_type": "markdown",
   "metadata": {},
   "source": [
    "# Correlation Analysis\n"
   ]
  },
  {
   "cell_type": "code",
   "execution_count": 25,
   "metadata": {},
   "outputs": [
    {
     "data": {
      "text/html": [
       "<div>\n",
       "<style scoped>\n",
       "    .dataframe tbody tr th:only-of-type {\n",
       "        vertical-align: middle;\n",
       "    }\n",
       "\n",
       "    .dataframe tbody tr th {\n",
       "        vertical-align: top;\n",
       "    }\n",
       "\n",
       "    .dataframe thead th {\n",
       "        text-align: right;\n",
       "    }\n",
       "</style>\n",
       "<table border=\"1\" class=\"dataframe\">\n",
       "  <thead>\n",
       "    <tr style=\"text-align: right;\">\n",
       "      <th></th>\n",
       "      <th>Price</th>\n",
       "      <th>Bedroom</th>\n",
       "      <th>Floors</th>\n",
       "      <th>Parking</th>\n",
       "    </tr>\n",
       "  </thead>\n",
       "  <tbody>\n",
       "    <tr>\n",
       "      <th>Price</th>\n",
       "      <td>1.000000</td>\n",
       "      <td>-0.031450</td>\n",
       "      <td>-0.013736</td>\n",
       "      <td>-0.022126</td>\n",
       "    </tr>\n",
       "    <tr>\n",
       "      <th>Bedroom</th>\n",
       "      <td>-0.031450</td>\n",
       "      <td>1.000000</td>\n",
       "      <td>0.110636</td>\n",
       "      <td>0.342206</td>\n",
       "    </tr>\n",
       "    <tr>\n",
       "      <th>Floors</th>\n",
       "      <td>-0.013736</td>\n",
       "      <td>0.110636</td>\n",
       "      <td>1.000000</td>\n",
       "      <td>0.034296</td>\n",
       "    </tr>\n",
       "    <tr>\n",
       "      <th>Parking</th>\n",
       "      <td>-0.022126</td>\n",
       "      <td>0.342206</td>\n",
       "      <td>0.034296</td>\n",
       "      <td>1.000000</td>\n",
       "    </tr>\n",
       "  </tbody>\n",
       "</table>\n",
       "</div>"
      ],
      "text/plain": [
       "            Price   Bedroom    Floors   Parking\n",
       "Price    1.000000 -0.031450 -0.013736 -0.022126\n",
       "Bedroom -0.031450  1.000000  0.110636  0.342206\n",
       "Floors  -0.013736  0.110636  1.000000  0.034296\n",
       "Parking -0.022126  0.342206  0.034296  1.000000"
      ]
     },
     "execution_count": 25,
     "metadata": {},
     "output_type": "execute_result"
    }
   ],
   "source": [
    "df2.corr()"
   ]
  },
  {
   "cell_type": "code",
   "execution_count": 26,
   "metadata": {},
   "outputs": [],
   "source": [
    "import seaborn as sns\n",
    "\n"
   ]
  },
  {
   "cell_type": "code",
   "execution_count": 27,
   "metadata": {},
   "outputs": [
    {
     "data": {
      "text/plain": [
       "<AxesSubplot:>"
      ]
     },
     "execution_count": 27,
     "metadata": {},
     "output_type": "execute_result"
    },
    {
     "data": {
      "image/png": "[encoded data removed]",
      "text/plain": [
       "<Figure size 576x576 with 2 Axes>"
      ]
     },
     "metadata": {
      "needs_background": "light"
     },
     "output_type": "display_data"
    }
   ],
   "source": [
    "plt.figure(figsize=(8,8))\n",
    "sns.heatmap(df2.corr(),annot = True, cmap='coolwarm' )"
   ]
  },
  {
   "cell_type": "code",
   "execution_count": 29,
   "metadata": {},
   "outputs": [
    {
     "data": {
      "text/html": [
       "<div>\n",
       "<style scoped>\n",
       "    .dataframe tbody tr th:only-of-type {\n",
       "        vertical-align: middle;\n",
       "    }\n",
       "\n",
       "    .dataframe tbody tr th {\n",
       "        vertical-align: top;\n",
       "    }\n",
       "\n",
       "    .dataframe thead th {\n",
       "        text-align: right;\n",
       "    }\n",
       "</style>\n",
       "<table border=\"1\" class=\"dataframe\">\n",
       "  <thead>\n",
       "    <tr style=\"text-align: right;\">\n",
       "      <th></th>\n",
       "      <th>Bedroom</th>\n",
       "      <th>Floors</th>\n",
       "      <th>Parking</th>\n",
       "    </tr>\n",
       "  </thead>\n",
       "  <tbody>\n",
       "    <tr>\n",
       "      <th>0</th>\n",
       "      <td>6</td>\n",
       "      <td>2.0</td>\n",
       "      <td>10</td>\n",
       "    </tr>\n",
       "    <tr>\n",
       "      <th>1</th>\n",
       "      <td>5</td>\n",
       "      <td>2.0</td>\n",
       "      <td>9</td>\n",
       "    </tr>\n",
       "    <tr>\n",
       "      <th>2</th>\n",
       "      <td>5</td>\n",
       "      <td>2.0</td>\n",
       "      <td>12</td>\n",
       "    </tr>\n",
       "    <tr>\n",
       "      <th>3</th>\n",
       "      <td>6</td>\n",
       "      <td>3.0</td>\n",
       "      <td>9</td>\n",
       "    </tr>\n",
       "    <tr>\n",
       "      <th>4</th>\n",
       "      <td>6</td>\n",
       "      <td>2.0</td>\n",
       "      <td>10</td>\n",
       "    </tr>\n",
       "  </tbody>\n",
       "</table>\n",
       "</div>"
      ],
      "text/plain": [
       "   Bedroom  Floors  Parking\n",
       "0        6     2.0       10\n",
       "1        5     2.0        9\n",
       "2        5     2.0       12\n",
       "3        6     3.0        9\n",
       "4        6     2.0       10"
      ]
     },
     "execution_count": 29,
     "metadata": {},
     "output_type": "execute_result"
    }
   ],
   "source": [
    "X = df2.drop('Price', axis='columns')\n",
    "X.head()"
   ]
  },
  {
   "cell_type": "code",
   "execution_count": 30,
   "metadata": {},
   "outputs": [
    {
     "data": {
      "text/html": [
       "<div>\n",
       "<style scoped>\n",
       "    .dataframe tbody tr th:only-of-type {\n",
       "        vertical-align: middle;\n",
       "    }\n",
       "\n",
       "    .dataframe tbody tr th {\n",
       "        vertical-align: top;\n",
       "    }\n",
       "\n",
       "    .dataframe thead th {\n",
       "        text-align: right;\n",
       "    }\n",
       "</style>\n",
       "<table border=\"1\" class=\"dataframe\">\n",
       "  <thead>\n",
       "    <tr style=\"text-align: right;\">\n",
       "      <th></th>\n",
       "      <th>Bedroom</th>\n",
       "      <th>Floors</th>\n",
       "      <th>Parking</th>\n",
       "    </tr>\n",
       "  </thead>\n",
       "  <tbody>\n",
       "    <tr>\n",
       "      <th>count</th>\n",
       "      <td>2211.000000</td>\n",
       "      <td>2211.000000</td>\n",
       "      <td>2211.000000</td>\n",
       "    </tr>\n",
       "    <tr>\n",
       "      <th>mean</th>\n",
       "      <td>2.731796</td>\n",
       "      <td>2.917390</td>\n",
       "      <td>1.007689</td>\n",
       "    </tr>\n",
       "    <tr>\n",
       "      <th>std</th>\n",
       "      <td>4.174364</td>\n",
       "      <td>0.871659</td>\n",
       "      <td>2.094905</td>\n",
       "    </tr>\n",
       "    <tr>\n",
       "      <th>min</th>\n",
       "      <td>0.000000</td>\n",
       "      <td>0.000000</td>\n",
       "      <td>0.000000</td>\n",
       "    </tr>\n",
       "    <tr>\n",
       "      <th>25%</th>\n",
       "      <td>0.000000</td>\n",
       "      <td>3.000000</td>\n",
       "      <td>0.000000</td>\n",
       "    </tr>\n",
       "    <tr>\n",
       "      <th>50%</th>\n",
       "      <td>0.000000</td>\n",
       "      <td>3.000000</td>\n",
       "      <td>0.000000</td>\n",
       "    </tr>\n",
       "    <tr>\n",
       "      <th>75%</th>\n",
       "      <td>5.000000</td>\n",
       "      <td>3.000000</td>\n",
       "      <td>1.000000</td>\n",
       "    </tr>\n",
       "    <tr>\n",
       "      <th>max</th>\n",
       "      <td>95.000000</td>\n",
       "      <td>13.000000</td>\n",
       "      <td>31.000000</td>\n",
       "    </tr>\n",
       "  </tbody>\n",
       "</table>\n",
       "</div>"
      ],
      "text/plain": [
       "           Bedroom       Floors      Parking\n",
       "count  2211.000000  2211.000000  2211.000000\n",
       "mean      2.731796     2.917390     1.007689\n",
       "std       4.174364     0.871659     2.094905\n",
       "min       0.000000     0.000000     0.000000\n",
       "25%       0.000000     3.000000     0.000000\n",
       "50%       0.000000     3.000000     0.000000\n",
       "75%       5.000000     3.000000     1.000000\n",
       "max      95.000000    13.000000    31.000000"
      ]
     },
     "execution_count": 30,
     "metadata": {},
     "output_type": "execute_result"
    }
   ],
   "source": [
    "X.describe()"
   ]
  },
  {
   "cell_type": "code",
   "execution_count": 31,
   "metadata": {},
   "outputs": [
    {
     "data": {
      "text/plain": [
       "0     90000000\n",
       "1     80000000\n",
       "2     70000000\n",
       "3    130000000\n",
       "4    100000000\n",
       "Name: Price, dtype: int64"
      ]
     },
     "execution_count": 31,
     "metadata": {},
     "output_type": "execute_result"
    }
   ],
   "source": [
    "y = df2.Price\n",
    "y.head()"
   ]
  },
  {
   "cell_type": "markdown",
   "metadata": {},
   "source": [
    "# Spliting into Train set and Test Set\n",
    "\n"
   ]
  },
  {
   "cell_type": "code",
   "execution_count": 32,
   "metadata": {},
   "outputs": [],
   "source": [
    "from sklearn.model_selection import train_test_split\n"
   ]
  },
  {
   "cell_type": "code",
   "execution_count": 33,
   "metadata": {},
   "outputs": [],
   "source": [
    "#splitting data into 20% testing and 80% training\n",
    "\n",
    "X_train, X_test, y_train, y_test = train_test_split(X,y,test_size=0.2, random_state=10)"
   ]
  },
  {
   "cell_type": "markdown",
   "metadata": {},
   "source": [
    "# Modeling"
   ]
  },
  {
   "cell_type": "code",
   "execution_count": 34,
   "metadata": {},
   "outputs": [],
   "source": [
    "#Initialize linear regression model\n",
    "from sklearn.linear_model import LinearRegression\n",
    "reg = LinearRegression()\n"
   ]
  },
  {
   "cell_type": "code",
   "execution_count": 35,
   "metadata": {},
   "outputs": [
    {
     "data": {
      "text/plain": [
       "LinearRegression()"
      ]
     },
     "execution_count": 35,
     "metadata": {},
     "output_type": "execute_result"
    }
   ],
   "source": [
    "#Training the model with our training data\n",
    "\n",
    "reg.fit(X_train, y_train)\n",
    "\n",
    " "
   ]
  },
  {
   "cell_type": "markdown",
   "metadata": {},
   "source": [
    "# Predictions"
   ]
  },
  {
   "cell_type": "code",
   "execution_count": 36,
   "metadata": {},
   "outputs": [
    {
     "name": "stdout",
     "output_type": "stream",
     "text": [
      "[-4.42458523e+10 -1.31762037e+11 -5.21689153e+10]\n"
     ]
    }
   ],
   "source": [
    "#Print the coefficients/weight for each column of the model\n",
    "print(reg.coef_)"
   ]
  },
  {
   "cell_type": "code",
   "execution_count": 37,
   "metadata": {},
   "outputs": [
    {
     "name": "stdout",
     "output_type": "stream",
     "text": [
      "[ 6.58973450e+11  7.11142365e+11 -1.98885356e+11  5.88278910e+11\n",
      "  5.88278910e+11  1.39848363e+11  2.34312092e+11  5.88278910e+11\n",
      "  5.88278910e+11  5.88278910e+11  5.88278910e+11  9.83565023e+11\n",
      "  4.11295501e+11  2.78557944e+11  1.58373988e+11  5.88278910e+11\n",
      "  5.88278910e+11 -5.18226689e+10  1.45820387e+11  1.82143177e+11\n",
      "  2.40101132e+11  3.14880734e+11  3.14880734e+11  1.92992798e+11\n",
      "  2.62711818e+11  6.45261347e+11  5.88278910e+11  3.51203523e+11\n",
      "  5.88278910e+11  5.88278910e+11  7.20040948e+11  2.18465966e+11\n",
      "  4.99787206e+11  3.79603249e+11  4.90888623e+11  3.22803796e+11\n",
      " -2.06808419e+11  3.59126586e+11  2.02619840e+11  3.14880734e+11\n",
      "  5.88278910e+11  2.70634881e+11  9.83565023e+11  5.88278910e+11\n",
      "  3.22803796e+11  1.01574535e+11  3.22803796e+11  5.43057539e+11\n",
      "  2.62711818e+11  5.88278910e+11  5.88278910e+11  4.46642771e+11\n",
      "  3.06957671e+11  1.58373988e+11  5.88278910e+11  1.22051198e+11\n",
      "  5.88278910e+11  4.11295501e+11  2.62711818e+11  5.88278910e+11\n",
      "  2.70634881e+11 -1.59998501e+11  5.35134476e+11  1.22051198e+11\n",
      "  5.88278910e+11  5.88278910e+11  5.88278910e+11  2.27364548e+11\n",
      "  2.20417005e+11  1.58373988e+11  3.59126586e+11  5.88278910e+11\n",
      " -5.88812472e+11  1.58373988e+11 -4.45221819e+11  1.90066240e+11\n",
      "  5.88278910e+11  2.18465966e+11  4.90888623e+11  5.88278910e+11\n",
      "  3.67049649e+11 -1.75657523e+12  4.54565834e+11  3.22803796e+11\n",
      "  4.55541353e+11  5.88278910e+11  1.22051198e+11  5.88278910e+11\n",
      "  3.67049649e+11  5.88278910e+11  1.08339095e+11  5.88278910e+11\n",
      "  2.54788755e+11  4.90888623e+11  5.88278910e+11  5.88278910e+11\n",
      "  5.88278910e+11  5.88278910e+11  5.88278910e+11  3.35594937e+10\n",
      "  6.31549243e+11  3.67049649e+11  5.88278910e+11  3.24754835e+11\n",
      "  3.51203523e+11  5.88278910e+11  5.88278910e+11  5.88278910e+11\n",
      "  5.88278910e+11  3.68025168e+11  5.88278910e+11  2.56364307e+10\n",
      "  5.88278910e+11  5.88278910e+11  5.88278910e+11  5.88278910e+11\n",
      "  6.98822830e+10  3.22803796e+11  6.01991014e+11  4.99787206e+11\n",
      "  2.70634881e+11  3.59126586e+11  2.70634881e+11  6.67872033e+11\n",
      "  5.88278910e+11  5.88278910e+11  5.88278910e+11  5.88278910e+11\n",
      "  5.88278910e+11  5.88278910e+11  5.88278910e+11  4.47618290e+11\n",
      "  4.30796645e+11  5.36109995e+11  4.90888623e+11 -1.98885356e+11\n",
      "  5.88278910e+11  5.88278910e+11  9.83565023e+11  2.62711818e+11\n",
      "  3.59126586e+11  7.63311281e+11  1.45820387e+11  5.88278910e+11\n",
      "  7.20040948e+11  7.63311281e+11  7.11142365e+11  5.88278910e+11\n",
      "  5.70481745e+11  4.03372438e+11  4.47618290e+11  5.88278910e+11\n",
      "  5.88278910e+11  5.88278910e+11  5.88278910e+11  4.03372438e+11\n",
      "  7.20040948e+11  5.88278910e+11  3.68025168e+11  5.88278910e+11\n",
      "  3.67049649e+11  5.88278910e+11  5.88278910e+11  3.80761752e+11\n",
      "  3.22803796e+11  5.88278910e+11  5.88278910e+11  5.88278910e+11\n",
      "  5.88278910e+11  1.29974261e+11  7.63311281e+11  5.36109995e+11\n",
      "  5.88278910e+11  3.78627730e+11  7.99634070e+11  5.88278910e+11\n",
      "  5.88278910e+11  2.10542903e+11 -3.26379349e+11  1.90066240e+11\n",
      "  5.88278910e+11  4.10319982e+11  5.88278910e+11  5.88278910e+11\n",
      "  3.22803796e+11 -9.45475259e+10  5.88278910e+11  3.59126586e+11\n",
      "  5.88278910e+11  2.62711818e+11  2.54788755e+11  5.88278910e+11\n",
      "  6.45261347e+11  3.35594937e+10  6.58973450e+11  5.88278910e+11\n",
      "  2.18465966e+11  5.88278910e+11  2.70634881e+11  5.88278910e+11\n",
      "  5.88278910e+11  5.88278910e+11  3.36515900e+11  5.44033058e+11\n",
      " -6.71233190e+10  5.88278910e+11  3.14880734e+11  2.32178069e+11\n",
      "  3.59126586e+11  2.70634881e+11  1.77133677e+10  5.88278910e+11\n",
      "  5.88278910e+11 -1.63900579e+11  2.18465966e+11  5.88278910e+11\n",
      "  1.29974261e+11  5.88278910e+11  5.88278910e+11  5.88278910e+11\n",
      "  5.88278910e+11  1.58373988e+11  3.67049649e+11  5.88278910e+11\n",
      " -1.27004689e+12  5.88278910e+11  5.88278910e+11  3.95449375e+11\n",
      "  5.88278910e+11  5.88278910e+11  5.88278910e+11  7.20040948e+11\n",
      "  3.59126586e+11  5.88278910e+11  1.58373988e+11  5.88278910e+11\n",
      "  2.34312092e+11  5.88278910e+11  5.88278910e+11  5.88278910e+11\n",
      "  5.36109995e+11  5.88278910e+11  4.38719708e+11  5.88278910e+11\n",
      "  5.88278910e+11  3.59126586e+11  1.60508010e+11  5.88278910e+11\n",
      " -3.55754595e+11  4.11295501e+11  2.26389029e+11  5.88278910e+11\n",
      "  3.14880734e+11  5.88278910e+11  5.56769642e+11  5.88278910e+11\n",
      "  5.88278910e+11  4.99787206e+11  5.88278910e+11  2.62711818e+11\n",
      "  5.88278910e+11  2.18465966e+11  2.92270048e+11  4.24580761e+10\n",
      "  5.88278910e+11  4.03372438e+11  5.88278910e+11  1.91041759e+11\n",
      "  3.14880734e+11  5.88278910e+11  5.88278910e+11  9.83565023e+11\n",
      "  5.88278910e+11  5.88278910e+11  4.90888623e+11  2.70634881e+11\n",
      "  1.14128135e+11  3.22803796e+11 -1.09635600e+12  2.70634881e+11\n",
      "  3.58151066e+11  5.88278910e+11  2.18465966e+11  5.88278910e+11\n",
      "  1.82143177e+11  5.88278910e+11  3.28592837e+11  5.88278910e+11\n",
      "  2.10542903e+11  2.78557944e+11  6.65025652e+11  2.78557944e+11\n",
      "  4.02396919e+11  1.01574535e+11  5.88278910e+11  3.14880734e+11\n",
      "  5.88278910e+11  4.90888623e+11  9.83565023e+11  7.20040948e+11\n",
      "  1.74220114e+11  5.88278910e+11  3.67049649e+11  1.29791278e+11\n",
      "  7.99634070e+11  9.46269914e+10 -1.50371459e+11  4.49322269e+11\n",
      "  2.54788755e+11  5.88278910e+11  1.37897324e+11  5.88278910e+11\n",
      "  5.88278910e+11  2.10542903e+11  5.88278910e+11  5.88278910e+11\n",
      "  6.45261347e+11  4.30796645e+11  2.10542903e+11  7.20040948e+11\n",
      "  1.46795907e+11  5.88278910e+11  2.91111545e+11  5.88278910e+11\n",
      "  6.15703117e+11  4.90888623e+11  5.88278910e+11  5.88278910e+11\n",
      "  7.63311281e+11  5.88278910e+11  3.06957671e+11  9.46269914e+10\n",
      "  7.20040948e+11  1.58373988e+11  5.88278910e+11  5.88278910e+11\n",
      "  5.88278910e+11  3.95449375e+11  3.14880734e+11  7.63311281e+11\n",
      "  5.88278910e+11  4.03372438e+11  5.88278910e+11  5.88278910e+11\n",
      "  5.88278910e+11  5.88278910e+11  5.88278910e+11  1.45820387e+11\n",
      "  4.11295501e+11  4.11295501e+11  5.88278910e+11  6.98822830e+10\n",
      "  1.74220114e+11  1.45820387e+11 -4.29375693e+11  3.67049649e+11\n",
      "  9.31396107e+11  2.18465966e+11  5.88278910e+11  5.88278910e+11\n",
      "  5.88278910e+11  5.88278910e+11  5.88278910e+11  5.88278910e+11\n",
      "  5.88278910e+11  3.06957671e+11  4.38719708e+11  4.11295501e+11\n",
      " -5.41636586e+11  3.80761752e+11  2.70634881e+11  3.59126586e+11\n",
      "  8.08632575e+09  5.88278910e+11  3.36515900e+11  7.11142365e+11\n",
      "  5.88278910e+11  3.51203523e+11  4.32930668e+11  5.44033058e+11\n",
      "  2.62711818e+11  3.06957671e+11  2.18465966e+11  5.88278910e+11\n",
      "  2.18465966e+11 -1.38793378e+11  6.74819576e+11  5.88278910e+11\n",
      "  3.59126586e+11  7.20040948e+11  5.88278910e+11  4.90888623e+11\n",
      "  3.14880734e+11  3.86550793e+11  2.10542903e+11  4.03372438e+11\n",
      "  5.88278910e+11  5.88278910e+11  5.88278910e+11  1.74220114e+11\n",
      "  7.11142365e+11  3.14880734e+11  2.62711818e+11  3.59126586e+11\n",
      "  3.06957671e+11  1.14128135e+11  1.82143177e+11  4.55541353e+11\n",
      "  5.88278910e+11 -9.82025438e+10  5.88278910e+11  5.88278910e+11\n",
      "  5.88278910e+11  5.88278910e+11  2.34312092e+11  2.70634881e+11\n",
      "  3.67049649e+11  3.42304940e+11  7.20040948e+11  3.67049649e+11\n",
      "  5.88278910e+11  5.88278910e+11  5.88278910e+11 -5.71130739e+11\n",
      "  5.88278910e+11  2.92914486e+10  5.88278910e+11  5.88278910e+11\n",
      "  4.99787206e+11  2.02619840e+11  5.88278910e+11  3.14880734e+11\n",
      "  2.91111545e+11  4.25007605e+11  6.12307605e+10  5.88278910e+11\n",
      "  3.14880734e+11  5.88278910e+11  3.59126586e+11  5.88278910e+11\n",
      "  2.26389029e+11  2.10542903e+11 -6.28552739e+10]\n"
     ]
    }
   ],
   "source": [
    "#Printing the predictions on our test data\n",
    "\n",
    "y_pred = reg.predict(X_test)\n",
    "print(y_pred)"
   ]
  },
  {
   "cell_type": "code",
   "execution_count": 38,
   "metadata": {},
   "outputs": [
    {
     "name": "stdout",
     "output_type": "stream",
     "text": [
      "2025     7500000\n",
      "47      14000000\n",
      "331       790000\n",
      "2103     1600000\n",
      "173      3500000\n",
      "          ...   \n",
      "781     19200000\n",
      "1196     1400000\n",
      "427     43500000\n",
      "1979    19200000\n",
      "1861    14500000\n",
      "Name: Price, Length: 443, dtype: int64\n"
     ]
    }
   ],
   "source": [
    "#Printing the actual values\n",
    "print(y_test)\n"
   ]
  },
  {
   "cell_type": "markdown",
   "metadata": {},
   "source": [
    "# Accuracy Check\n"
   ]
  },
  {
   "cell_type": "code",
   "execution_count": 39,
   "metadata": {},
   "outputs": [
    {
     "name": "stdout",
     "output_type": "stream",
     "text": [
      "4.412086500089967e+25\n"
     ]
    }
   ],
   "source": [
    "#accuracy check of model using mean square error\n",
    "\n",
    "print(np.mean((y_pred - y_test)**2))"
   ]
  },
  {
   "cell_type": "code",
   "execution_count": 44,
   "metadata": {},
   "outputs": [
    {
     "name": "stdout",
     "output_type": "stream",
     "text": [
      "4.412086500089967e+25\n"
     ]
    }
   ],
   "source": [
    "#accuracy check using sklearn metrics\n",
    "from sklearn.metrics import mean_squared_error\n",
    "print(mean_squared_error(y_test, y_pred))"
   ]
  },
  {
   "cell_type": "code",
   "execution_count": null,
   "metadata": {},
   "outputs": [],
   "source": []
  }
 ],
 "metadata": {
  "kernelspec": {
   "display_name": "Python 3",
   "language": "python",
   "name": "python3"
  },
  "language_info": {
   "codemirror_mode": {
    "name": "ipython",
    "version": 3
   },
   "file_extension": ".py",
   "mimetype": "text/x-python",
   "name": "python",
   "nbconvert_exporter": "python",
   "pygments_lexer": "ipython3",
   "version": "3.6.9"
  }
 },
 "nbformat": 4,
 "nbformat_minor": 4
}
